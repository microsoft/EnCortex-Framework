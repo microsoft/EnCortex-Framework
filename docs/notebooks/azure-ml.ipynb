{
 "cells": [
  {
   "cell_type": "code",
   "execution_count": 1,
   "metadata": {},
   "outputs": [],
   "source": [
    "# Import AzureML components\n",
    "from azureml.core import Workspace, Experiment, Environment,ScriptRunConfig\n",
    "from azureml.core.compute import ComputeTarget\n",
    "from azureml.widgets import RunDetails\n",
    "\n",
    "# Import EnCortex\n",
    "import encortex\n"
   ]
  },
  {
   "cell_type": "markdown",
   "metadata": {},
   "source": [
    "## Instantiate compute, workspace, environment, experiment_name and script to run"
   ]
  },
  {
   "cell_type": "code",
   "execution_count": 2,
   "metadata": {},
   "outputs": [],
   "source": [
    "#Instantiate compute, workspace, environment, experiment_name and script to run\n",
    "compute_cluster = 'encortexcompute'\n",
    "config_path = 'config.json' #From AzureML resource in Azure ML subscription\n",
    "environment_name = \"EnCortex\"\n",
    "docker_image = \"b2fb764f7f0b4a5d979cd3ed8d5ba0db.azurecr.io/encortex\"\n",
    "script_dir = \".\"\n",
    "script_path = \"rl_job.py\"\n",
    "experiment_name = \"encortex_experiment\"\n",
    "remote = True #If outside of AML compute\n"
   ]
  },
  {
   "cell_type": "markdown",
   "metadata": {},
   "source": [
    "## Run script_path on Azure ML"
   ]
  },
  {
   "cell_type": "code",
   "execution_count": null,
   "metadata": {},
   "outputs": [],
   "source": [
    "#Run the script\n",
    "if remote:\n",
    "    ws = Workspace.from_config(path=config_path) \n",
    "else:\n",
    "    ws = Workspace.from_config()\n",
    "ray_cluster = ComputeTarget(workspace=ws, name=compute_cluster)\n",
    "env = Environment(environment_name)\n",
    "env.docker.base_image = docker_image\n",
    "env.python.user_managed_dependencies = True\n",
    "\n",
    "src = ScriptRunConfig(source_directory=script_dir,\n",
    "                    script=script_path,\n",
    "                    environment=env,\n",
    "                    compute_target=ray_cluster\n",
    "                   )\n",
    "\n",
    "run = Experiment(ws, experiment_name).submit(src)"
   ]
  },
  {
   "cell_type": "markdown",
   "metadata": {},
   "source": [
    "## Track run progress\n",
    "\n",
    "> Note: Best viewed inside VSCode / notebook hosted on Azure ML"
   ]
  },
  {
   "cell_type": "code",
   "execution_count": null,
   "metadata": {},
   "outputs": [],
   "source": [
    "RunDetails(run).show()"
   ]
  },
  {
   "cell_type": "markdown",
   "metadata": {},
   "source": [
    "To view on Azure ML studio, execute the next cell and follow the link"
   ]
  },
  {
   "cell_type": "code",
   "execution_count": null,
   "metadata": {},
   "outputs": [],
   "source": [
    "run"
   ]
  }
 ],
 "metadata": {
  "kernelspec": {
   "display_name": "Python 3.8.12 ('encortex')",
   "language": "python",
   "name": "python3"
  },
  "language_info": {
   "codemirror_mode": {
    "name": "ipython",
    "version": 3
   },
   "file_extension": ".py",
   "mimetype": "text/x-python",
   "name": "python",
   "nbconvert_exporter": "python",
   "pygments_lexer": "ipython3",
   "version": "3.8.12"
  },
  "orig_nbformat": 4,
  "vscode": {
   "interpreter": {
    "hash": "77375ee3feb625979ad554bacceec151ce55face344385276075fcd43c126865"
   }
  }
 },
 "nbformat": 4,
 "nbformat_minor": 2
}
